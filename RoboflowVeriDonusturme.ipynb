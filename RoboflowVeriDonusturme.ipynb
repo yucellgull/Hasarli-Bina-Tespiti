{
 "cells": [
  {
   "cell_type": "code",
   "id": "initial_id",
   "metadata": {
    "collapsed": true,
    "ExecuteTime": {
     "end_time": "2024-12-28T20:36:06.079803Z",
     "start_time": "2024-12-28T20:36:06.047696Z"
    }
   },
   "source": [
    "import json\n",
    "import os\n",
    "\n",
    "import os\n",
    "\n",
    "# Veri setinin bulunduğu klasör yolu\n",
    "data_folder_path = 'C:/Users/ASUS/Desktop/Dersler/4.Sınıf/Goruntu_Isleme/Proje/Damage Level.v1i.coco-mmdetection'  # Dosyalarınızın bulunduğu ana klasör\n",
    "\n",
    "# Eğitim ve doğrulama klasörlerini kontrol etme\n",
    "train_folder_path = os.path.join(data_folder_path, 'train')\n",
    "valid_folder_path = os.path.join(data_folder_path, 'valid')\n",
    "\n",
    "# JSON dosyasını okuma\n",
    "train_annotations_path = os.path.join(train_folder_path, '_annotations.coco.json')\n",
    "valid_annotations_path = os.path.join(valid_folder_path, '_annotations.coco.json')\n",
    "\n",
    "with open(train_annotations_path, 'r') as train_json_file:\n",
    "    train_annotations_data = json.load(train_json_file)\n",
    "\n",
    "with open(valid_annotations_path, 'r') as valid_json_file:\n",
    "    valid_annotations_data = json.load(valid_json_file)\n",
    "\n",
    "# Sınıfları belirleme (aynı sınıf yapısı her iki klasör için geçerli)\n",
    "categories = train_annotations_data['categories']\n",
    "class_mapping = {category['id']: category['name'] for category in categories}\n",
    "print(\"Sınıflar:\", class_mapping)\n",
    "\n"
   ],
   "outputs": [
    {
     "name": "stdout",
     "output_type": "stream",
     "text": [
      "Sınıflar: {1: 'Heavy Damage', 2: 'Minor Damage', 3: 'Moderate Damage', 4: 'Undamage'}\n"
     ]
    }
   ],
   "execution_count": 11
  },
  {
   "metadata": {
    "ExecuteTime": {
     "end_time": "2024-12-28T20:36:17.831381Z",
     "start_time": "2024-12-28T20:36:17.815738Z"
    }
   },
   "cell_type": "code",
   "source": [
    "# Organize edilecek veri seti yolları\n",
    "organized_train_path = 'Organized_Damage_Level/train/'\n",
    "organized_valid_path = 'Organized_Damage_Level/valid/'\n",
    "\n",
    "os.makedirs(organized_train_path, exist_ok=True)\n",
    "os.makedirs(organized_valid_path, exist_ok=True)\n",
    "\n",
    "# Her sınıf için klasör oluşturma\n",
    "for class_name in class_mapping.values():\n",
    "    os.makedirs(os.path.join(organized_train_path, class_name), exist_ok=True)\n",
    "    os.makedirs(os.path.join(organized_valid_path, class_name), exist_ok=True)\n"
   ],
   "id": "9cc11c6c442cbd01",
   "outputs": [],
   "execution_count": 12
  },
  {
   "metadata": {
    "ExecuteTime": {
     "end_time": "2024-12-28T20:36:48.096918Z",
     "start_time": "2024-12-28T20:36:44.067542Z"
    }
   },
   "cell_type": "code",
   "source": [
    "import shutil\n",
    "# Görselleri taşıma fonksiyonu\n",
    "def organize_images(annotations_data, folder_path, organized_path):\n",
    "    image_id_to_file = {image['id']: image['file_name'] for image in annotations_data['images']}\n",
    "    annotations = annotations_data['annotations']\n",
    "\n",
    "    for annotation in annotations:\n",
    "        class_id = annotation['category_id']\n",
    "        image_id = annotation['image_id']\n",
    "        class_name = class_mapping[class_id]\n",
    "        image_file_name = image_id_to_file[image_id]\n",
    "\n",
    "        # Kaynak ve hedef yolları belirleme\n",
    "        source_path = os.path.join(folder_path, image_file_name)\n",
    "        destination_path = os.path.join(organized_path, class_name, image_file_name)\n",
    "\n",
    "        # Resmi ilgili sınıf klasörüne kopyalama\n",
    "        if os.path.exists(source_path):\n",
    "            shutil.copy(source_path, destination_path)\n",
    "\n",
    "# Eğitim verilerini taşıma\n",
    "organize_images(train_annotations_data, train_folder_path, organized_train_path)\n",
    "\n",
    "# Doğrulama verilerini taşıma\n",
    "organize_images(valid_annotations_data, valid_folder_path, organized_valid_path)\n",
    "\n",
    "print(\"Eğitim ve doğrulama verileri organize edildi!\")\n"
   ],
   "id": "6e69ddb2857a2df9",
   "outputs": [
    {
     "name": "stdout",
     "output_type": "stream",
     "text": [
      "Eğitim ve doğrulama verileri organize edildi!\n"
     ]
    }
   ],
   "execution_count": 14
  }
 ],
 "metadata": {
  "kernelspec": {
   "display_name": "Python 3",
   "language": "python",
   "name": "python3"
  },
  "language_info": {
   "codemirror_mode": {
    "name": "ipython",
    "version": 2
   },
   "file_extension": ".py",
   "mimetype": "text/x-python",
   "name": "python",
   "nbconvert_exporter": "python",
   "pygments_lexer": "ipython2",
   "version": "2.7.6"
  }
 },
 "nbformat": 4,
 "nbformat_minor": 5
}
